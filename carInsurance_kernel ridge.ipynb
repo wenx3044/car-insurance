{
 "cells": [
  {
   "cell_type": "markdown",
   "metadata": {},
   "source": [
    "# Bus241 datasets: Car Insurance from Kaggle\n",
    "* Car insurance (loss) data set\n",
    "* Source: Kaggle\n",
    "* Car and driver predictors for different policies\n",
    "* Loss per policy"
   ]
  },
  {
   "cell_type": "code",
   "execution_count": 1,
   "metadata": {},
   "outputs": [],
   "source": [
    "%matplotlib inline\n",
    "# Import lots of tools\n",
    "import pandas as pd\n",
    "import numpy as np\n",
    "import matplotlib as mpl\n",
    "import matplotlib.pyplot as plt\n",
    "from sklearn.model_selection import train_test_split"
   ]
  },
  {
   "cell_type": "markdown",
   "metadata": {},
   "source": [
    "### Load data"
   ]
  },
  {
   "cell_type": "code",
   "execution_count": 2,
   "metadata": {},
   "outputs": [
    {
     "name": "stdout",
     "output_type": "stream",
     "text": [
      "(15290, 8)\n"
     ]
    },
    {
     "data": {
      "text/html": [
       "<div>\n",
       "<style scoped>\n",
       "    .dataframe tbody tr th:only-of-type {\n",
       "        vertical-align: middle;\n",
       "    }\n",
       "\n",
       "    .dataframe tbody tr th {\n",
       "        vertical-align: top;\n",
       "    }\n",
       "\n",
       "    .dataframe thead th {\n",
       "        text-align: right;\n",
       "    }\n",
       "</style>\n",
       "<table border=\"1\" class=\"dataframe\">\n",
       "  <thead>\n",
       "    <tr style=\"text-align: right;\">\n",
       "      <th></th>\n",
       "      <th>Policy Number</th>\n",
       "      <th>Number of Vehicles</th>\n",
       "      <th>Average Age</th>\n",
       "      <th>Gender Dummy</th>\n",
       "      <th>Married Dummy</th>\n",
       "      <th>Avg Veh Age</th>\n",
       "      <th>Fuel Type Dummy</th>\n",
       "      <th>Losses</th>\n",
       "    </tr>\n",
       "  </thead>\n",
       "  <tbody>\n",
       "    <tr>\n",
       "      <th>0</th>\n",
       "      <td>150023</td>\n",
       "      <td>1</td>\n",
       "      <td>20.6</td>\n",
       "      <td>1</td>\n",
       "      <td>0</td>\n",
       "      <td>12.97</td>\n",
       "      <td>0</td>\n",
       "      <td>203.319595</td>\n",
       "    </tr>\n",
       "    <tr>\n",
       "      <th>1</th>\n",
       "      <td>152720</td>\n",
       "      <td>1</td>\n",
       "      <td>42.4</td>\n",
       "      <td>0</td>\n",
       "      <td>1</td>\n",
       "      <td>8.02</td>\n",
       "      <td>0</td>\n",
       "      <td>402.197302</td>\n",
       "    </tr>\n",
       "    <tr>\n",
       "      <th>2</th>\n",
       "      <td>174207</td>\n",
       "      <td>1</td>\n",
       "      <td>42.4</td>\n",
       "      <td>1</td>\n",
       "      <td>0</td>\n",
       "      <td>2.50</td>\n",
       "      <td>1</td>\n",
       "      <td>553.132096</td>\n",
       "    </tr>\n",
       "    <tr>\n",
       "      <th>3</th>\n",
       "      <td>139895</td>\n",
       "      <td>1</td>\n",
       "      <td>42.4</td>\n",
       "      <td>0</td>\n",
       "      <td>0</td>\n",
       "      <td>12.97</td>\n",
       "      <td>0</td>\n",
       "      <td>292.430579</td>\n",
       "    </tr>\n",
       "    <tr>\n",
       "      <th>4</th>\n",
       "      <td>174407</td>\n",
       "      <td>1</td>\n",
       "      <td>20.6</td>\n",
       "      <td>1</td>\n",
       "      <td>1</td>\n",
       "      <td>12.97</td>\n",
       "      <td>0</td>\n",
       "      <td>246.540576</td>\n",
       "    </tr>\n",
       "  </tbody>\n",
       "</table>\n",
       "</div>"
      ],
      "text/plain": [
       "   Policy Number  Number of Vehicles  Average Age  Gender Dummy  \\\n",
       "0         150023                   1         20.6             1   \n",
       "1         152720                   1         42.4             0   \n",
       "2         174207                   1         42.4             1   \n",
       "3         139895                   1         42.4             0   \n",
       "4         174407                   1         20.6             1   \n",
       "\n",
       "   Married Dummy  Avg Veh Age  Fuel Type Dummy      Losses  \n",
       "0              0        12.97                0  203.319595  \n",
       "1              1         8.02                0  402.197302  \n",
       "2              0         2.50                1  553.132096  \n",
       "3              0        12.97                0  292.430579  \n",
       "4              1        12.97                0  246.540576  "
      ]
     },
     "execution_count": 2,
     "metadata": {},
     "output_type": "execute_result"
    }
   ],
   "source": [
    "# load default data set\n",
    "carinsure = pd.read_csv(\"carInsuranceKaggle.csv\")\n",
    "print(carinsure.shape)\n",
    "carinsure.head()"
   ]
  },
  {
   "cell_type": "markdown",
   "metadata": {},
   "source": [
    "### Set predictor and target"
   ]
  },
  {
   "cell_type": "code",
   "execution_count": 25,
   "metadata": {},
   "outputs": [],
   "source": [
    "X = carinsure.values[:,1:6]\n",
    "y = carinsure.Losses"
   ]
  },
  {
   "cell_type": "markdown",
   "metadata": {},
   "source": [
    "### Run a basic regression"
   ]
  },
  {
   "cell_type": "code",
   "execution_count": 4,
   "metadata": {},
   "outputs": [
    {
     "name": "stdout",
     "output_type": "stream",
     "text": [
      "0.5422898961213629\n",
      "0.4823891039468734\n"
     ]
    }
   ],
   "source": [
    "from sklearn.linear_model import LinearRegression\n",
    "X_train, X_test, y_train, y_test = train_test_split(X, y, random_state=42)\n",
    "model = LinearRegression()\n",
    "model.fit(X_train, y_train)\n",
    "trainScore = model.score(X_train,y_train)\n",
    "testScore  = model.score(X_test,y_test)\n",
    "print(trainScore)\n",
    "print(testScore)"
   ]
  },
  {
   "cell_type": "markdown",
   "metadata": {},
   "source": [
    "### Grid Search\n",
    "    Use pipeline to make kernel ridge grid search to find the best kernel ridge model with Radial Basis functions."
   ]
  },
  {
   "cell_type": "code",
   "execution_count": 47,
   "metadata": {},
   "outputs": [
    {
     "name": "stdout",
     "output_type": "stream",
     "text": [
      "    rank_test_score  mean_test_score param_kridge__alpha param_kridge__gamma\n",
      "0                11         0.000137              0.0001                0.01\n",
      "1                17        -0.000081              0.0001                0.05\n",
      "2                33        -0.000262              0.0001                0.25\n",
      "3                35        -0.000329              0.0001                 0.5\n",
      "4                19        -0.000104              0.0001                 1.0\n",
      "5                 8         0.000192               0.001                0.01\n",
      "6                13        -0.000001               0.001                0.05\n",
      "7                29        -0.000194               0.001                0.25\n",
      "8                34        -0.000273               0.001                 0.5\n",
      "9                21        -0.000123               0.001                 1.0\n",
      "10                5         0.000296                0.01                0.01\n",
      "11               12         0.000075                0.01                0.05\n",
      "12               22        -0.000127                0.01                0.25\n",
      "13               32        -0.000256                0.01                 0.5\n",
      "14               27        -0.000182                0.01                 1.0\n",
      "15                4         0.000342                0.05                0.01\n",
      "16               10         0.000142                0.05                0.05\n",
      "17               18        -0.000088                0.05                0.25\n",
      "18               31        -0.000209                0.05                 0.5\n",
      "19               24        -0.000173                0.05                 1.0\n",
      "20                3         0.000353                 0.1                0.01\n",
      "21                9         0.000169                 0.1                0.05\n",
      "22               16        -0.000072                 0.1                0.25\n",
      "23               26        -0.000182                 0.1                 0.5\n",
      "24               25        -0.000173                 0.1                 1.0\n",
      "25                2         0.000368                0.25                0.01\n",
      "26                7         0.000210                0.25                0.05\n",
      "27               15        -0.000042                0.25                0.25\n",
      "28               23        -0.000142                0.25                 0.5\n",
      "29               28        -0.000189                0.25                 1.0\n",
      "30                1         0.000384                 0.5                0.01\n",
      "31                6         0.000247                 0.5                0.05\n",
      "32               14        -0.000012                 0.5                0.25\n",
      "33               20        -0.000108                 0.5                 0.5\n",
      "34               30        -0.000197                 0.5                 1.0\n"
     ]
    }
   ],
   "source": [
    "# Now set up a grid search over parameters\n",
    "from sklearn.model_selection import GridSearchCV\n",
    "from sklearn.model_selection import ShuffleSplit\n",
    "from sklearn.preprocessing import StandardScaler\n",
    "import pandas as pd\n",
    "\n",
    "score_used = 'r2' \n",
    "\n",
    "# Set up pipeline with StandardScaler\n",
    "fullModel = Pipeline([\n",
    "    (\"scaler\", StandardScaler()),\n",
    "    (\"kridge\", KernelRidge())\n",
    "])\n",
    "\n",
    "# set up dictionary for grid search\n",
    "param_grid={'kridge__alpha':[0.0001,0.001,0.01,0.05,0.1,0.25,0.5],'kridge__gamma':[0.01,0.05,0.25,0.5,1.],'kridge__kernel':['rbf']}\n",
    "\n",
    "# set up cross-validation shuffles\n",
    "shuffle_split = ShuffleSplit(test_size=0.25, n_splits=25)\n",
    "\n",
    "# set up search\n",
    "grid_search=GridSearchCV(fullModel,param_grid,cv=shuffle_split,scoring=score_used, \n",
    "                              return_train_score=True)\n",
    "# implement grid search\n",
    "grid_search.fit(X,y)\n",
    "# move results into DataFrame\n",
    "results = pd.DataFrame(grid_search.cv_results_)\n",
    "presults = results[['rank_test_score','mean_test_score','param_kridge__alpha','param_kridge__gamma']]\n",
    "print(presults)"
   ]
  },
  {
   "cell_type": "markdown",
   "metadata": {},
   "source": [
    "We got the best alpha is 0.5, and the best gamma is 0.01."
   ]
  }
 ],
 "metadata": {
  "kernelspec": {
   "display_name": "Python 3 (ipykernel)",
   "language": "python",
   "name": "python3"
  },
  "language_info": {
   "codemirror_mode": {
    "name": "ipython",
    "version": 3
   },
   "file_extension": ".py",
   "mimetype": "text/x-python",
   "name": "python",
   "nbconvert_exporter": "python",
   "pygments_lexer": "ipython3",
   "version": "3.9.7"
  }
 },
 "nbformat": 4,
 "nbformat_minor": 2
}
